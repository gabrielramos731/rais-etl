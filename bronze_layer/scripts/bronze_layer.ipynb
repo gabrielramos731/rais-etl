{
 "cells": [
  {
   "cell_type": "code",
   "execution_count": null,
   "id": "9a9eeb40",
   "metadata": {},
   "outputs": [],
   "source": [
    "import pandas as pd\n",
    "from dotenv import load_dotenv\n",
    "import os\n",
    "import sys\n",
    "import importlib\n",
    "\n",
    "import config.config_bronze as config_bronze"
   ]
  },
  {
   "cell_type": "code",
   "execution_count": 19,
   "id": "b94ba683",
   "metadata": {},
   "outputs": [],
   "source": [
    "# Utils\n",
    "importlib.reload(config_bronze)\n",
    "\n",
    "RAW_PATH_ESTB = config_bronze.RAW_PATH_ESTB\n",
    "OUT_PATH_ESTB_BRONZE = config_bronze.OUT_PATH_ESTB_BRONZE"
   ]
  },
  {
   "cell_type": "code",
   "execution_count": 27,
   "id": "a43d296d",
   "metadata": {},
   "outputs": [],
   "source": [
    "def normaliza_csv(file_name):\n",
    "    '''Sem alterações necessárias'''\n",
    "    path = RAW_PATH_ESTB + '/' + file_name\n",
    "    df = pd.read_csv(path)\n",
    "\n",
    "    return df\n",
    "\n",
    "def normaliza_txt(file_name):\n",
    "    path = RAW_PATH_ESTB + '/' + file_name\n",
    "    df = pd.read_csv(path, encoding='latin1', sep=';', usecols=['Município', 'CNAE 2.0 Classe'])\n",
    "    df = df[df['CNAE 2.0 Classe'] != '000-1']  # alguns registros com CNAE 000-1\n",
    "\n",
    "    return df"
   ]
  },
  {
   "cell_type": "code",
   "execution_count": null,
   "id": "b48b2115",
   "metadata": {},
   "outputs": [],
   "source": [
    "def normaliza_arquivos(file_name):\n",
    "    ext = file_name.split('.')[1]\n",
    "    \n",
    "    if ext == 'csv':\n",
    "        df = normaliza_csv(file_name)\n",
    "    elif ext == 'txt':\n",
    "        df = normaliza_txt(file_name)\n",
    "    else:\n",
    "        raise ValueError(f\"Extensão não suportada: {ext}\")\n",
    "    \n",
    "    out_path = os.path.join(OUT_PATH_ESTB_BRONZE, file_name.replace(ext, 'parquet'))\n",
    "    df.to_parquet(out_path, engine='fastparquet')"
   ]
  },
  {
   "cell_type": "code",
   "execution_count": null,
   "id": "0dbc59b7",
   "metadata": {},
   "outputs": [],
   "source": [
    "def run_bronze_layer():\n",
    "    for file_name in os.listdir(os.environ.get('RAW_PATH_ESTB')):\n",
    "        print(file_name)\n",
    "        normaliza_arquivos(file_name)"
   ]
  },
  {
   "cell_type": "code",
   "execution_count": null,
   "id": "b4eee3e3",
   "metadata": {},
   "outputs": [],
   "source": [
    "run_bronze_layer()"
   ]
  }
 ],
 "metadata": {
  "kernelspec": {
   "display_name": ".venv",
   "language": "python",
   "name": "python3"
  },
  "language_info": {
   "codemirror_mode": {
    "name": "ipython",
    "version": 3
   },
   "file_extension": ".py",
   "mimetype": "text/x-python",
   "name": "python",
   "nbconvert_exporter": "python",
   "pygments_lexer": "ipython3",
   "version": "3.12.10"
  }
 },
 "nbformat": 4,
 "nbformat_minor": 5
}
